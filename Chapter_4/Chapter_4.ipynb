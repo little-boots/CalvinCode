{
 "cells": [
  {
   "cell_type": "markdown",
   "metadata": {},
   "source": [
    "# Chapter 4\n",
    "\n",
    "## Drawing with Turtles\n",
    "\n",
    "### Modules\n",
    "\n",
    "Nobody likes having to do a lot of work... especially if someone else has already done it!  *Modules* are an easy way to pull lots of helpful new capabilities into your code that somebody else already figured out for you.  There are lots more modules than just `turtles` that can help you build websites, robots, video games... pretty much anything a computer can handle!"
   ]
  },
  {
   "cell_type": "code",
   "execution_count": 1,
   "metadata": {},
   "outputs": [],
   "source": [
    "# Before we can use the module, we need to import it.\n",
    "import turtle\n",
    "\n",
    "# You can use functions from a module like this\n",
    "t = turtle.Pen()"
   ]
  },
  {
   "cell_type": "markdown",
   "metadata": {},
   "source": [
    "### Moving the Turtle\n",
    "\n",
    "You can move the \"turtle\" around using functions like `forward` and `left`.  You can use these functions using a dot, just like we did above.\n",
    "\n",
    "### Functions\n",
    "\n",
    "Functions are easy to spot in Python because they're always followed by parentheses, `(` and `)`.  Some functions need something to work on (like `append`), so you'll have to add something inside the parentheses.\n",
    "\n",
    "### Degrees\n",
    "\n",
    "Degrees are one way of measuring angles.  A full circle has 360 degrees.  If you turned in a half-circle, you'd be facing backwards.  This is the same as turning 180 degrees, since 180 is half of 360.  A turn to the left or right is 90 degrees (360/4).  The hour markers on a clock are 360/12 = 30 degrees apart."
   ]
  },
  {
   "cell_type": "code",
   "execution_count": 2,
   "metadata": {},
   "outputs": [],
   "source": [
    "# \"forward\" needs to know how far to go.  Let's have it go 50 pixels.\n",
    "t.forward(50)"
   ]
  },
  {
   "cell_type": "code",
   "execution_count": 3,
   "metadata": {},
   "outputs": [],
   "source": [
    "# Now let's turn to the left.  We'll also need to tell turtle how far to turn.  Let's do 90 degrees.\n",
    "# Watch the triangle carefully before you run this!\n",
    "t.left(90)\n",
    "\n",
    "# NOTE: This is the same as typing t.right(270).  Can you figure out why?"
   ]
  },
  {
   "cell_type": "code",
   "execution_count": 4,
   "metadata": {},
   "outputs": [],
   "source": [
    "# Let's see what we can draw with even more commands\n",
    "\n",
    "t.forward(200)\n",
    "t.right(90)\n",
    "t.forward(100)\n",
    "t.left(90)\n",
    "t.forward(50)\n",
    "t.left(90)\n",
    "t.forward(250)\n",
    "t.left(90)\n",
    "t.forward(50)\n",
    "t.left(90)\n",
    "t.forward(100)\n",
    "t.right(90)\n",
    "t.forward(200)\n",
    "\n",
    "# Take a close look at the screen...\n",
    "# What do you think would happen if we ran this code again?"
   ]
  },
  {
   "cell_type": "code",
   "execution_count": 5,
   "metadata": {},
   "outputs": [],
   "source": [
    "# Clear the drawing and put the turtle back in the middle\n",
    "t.reset()\n",
    "\n",
    "# t.clear() also clears the drawing, but leaves the turtle alone."
   ]
  },
  {
   "cell_type": "markdown",
   "metadata": {},
   "source": [
    "### Moving without drawing\n",
    "\n",
    "You can also move around without drawing a line.  Use `up` to pick up your \"pen\".  This stops the line from being drawn.  Use `down` to start drawing again.  Because `up` and `down` just turn drawing off or on, you don't need to add anything inside the parentheses."
   ]
  },
  {
   "cell_type": "code",
   "execution_count": 6,
   "metadata": {},
   "outputs": [],
   "source": [
    "# Let's practice picking up the pen\n",
    "\n",
    "# Moving\n",
    "t.up()\n",
    "t.left(180)\n",
    "t.forward(100)\n",
    "t.right(90)\n",
    "\n",
    "# Drawing\n",
    "t.down()\n",
    "t.forward(100)\n",
    "t.right(90)\n",
    "t.forward(50)\n",
    "t.right(90)\n",
    "t.forward(100)\n",
    "t.right(90)\n",
    "t.forward(50)\n",
    "\n",
    "# Moving\n",
    "t.up()\n",
    "t.left(180)\n",
    "t.forward(80)\n",
    "t.left(90)\n",
    "\n",
    "# Drawing\n",
    "t.down()\n",
    "t.forward(100)\n",
    "t.left(180)\n",
    "t.forward(50)\n",
    "t.left(30)\n",
    "t.forward(60)\n",
    "t.left(180)\n",
    "t.forward(60)\n",
    "t.right(60)\n",
    "t.forward(60)\n",
    "\n",
    "# Moving\n",
    "t.up()\n",
    "t.right(60)\n",
    "t.forward(30)\n",
    "t.right(90)\n",
    "\n",
    "# Drawing\n",
    "t.down()\n",
    "t.forward(80)\n",
    "\n",
    "# Moving\n",
    "t.up()\n",
    "t.forward(20)"
   ]
  }
 ],
 "metadata": {
  "kernelspec": {
   "display_name": "Python 3",
   "language": "python",
   "name": "python3"
  },
  "language_info": {
   "codemirror_mode": {
    "name": "ipython",
    "version": 3
   },
   "file_extension": ".py",
   "mimetype": "text/x-python",
   "name": "python",
   "nbconvert_exporter": "python",
   "pygments_lexer": "ipython3",
   "version": "3.8.1"
  }
 },
 "nbformat": 4,
 "nbformat_minor": 4
}
