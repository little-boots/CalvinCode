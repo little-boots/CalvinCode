{
 "cells": [
  {
   "cell_type": "markdown",
   "metadata": {},
   "source": [
    "# Chapter 2\n",
    "## Calculations and Variables"
   ]
  },
  {
   "cell_type": "markdown",
   "metadata": {},
   "source": [
    "### Calculations\n",
    "\n",
    "#### Operators\n",
    "To do math in Python, you need operators.  These are the basic ones:\n",
    "\n",
    "Symbol | Operation\n",
    "--- | ---\n",
    "+ | Addition\n",
    "- | Subtraction\n",
    "* | Multiplication\n",
    "/ | Division\n"
   ]
  },
  {
   "cell_type": "code",
   "execution_count": 12,
   "metadata": {},
   "outputs": [
    {
     "data": {
      "text/plain": [
       "385"
      ]
     },
     "execution_count": 12,
     "metadata": {},
     "output_type": "execute_result"
    }
   ],
   "source": [
    "# Try for yourself!\n",
    "# (Go ahead and change the numbers and operator below)\n",
    "\n",
    "20 + 365"
   ]
  },
  {
   "cell_type": "markdown",
   "metadata": {},
   "source": [
    "#### Order of Operations\n",
    "\n",
    "In math and in programming, things don't always go from left to right!  Instead, some operations happen before others.  The order you need to do operations in is called the \"Order of Operations\":\n",
    "\n",
    "Order | Operation | Example\n",
    "--- | --- | ---\n",
    "1 | Parentheses  | ( 46 + 3 )\n",
    "2 | Exponent | 3<sup>2</sup>\n",
    "3 | Multiplication | 4 x 6\n",
    "4 | Division | 18 \\/ 6\n",
    "5 | Addition | 5 + 5\n",
    "6 | Subtraction | 7 - 3"
   ]
  },
  {
   "cell_type": "code",
   "execution_count": 16,
   "metadata": {},
   "outputs": [
    {
     "name": "stdout",
     "output_type": "stream",
     "text": [
      "Group 1\n",
      "170\n",
      "250\n",
      "\n",
      "Group 2\n",
      "70.0\n",
      "65.0\n",
      "\n",
      "Group 3\n",
      "27\n",
      "9\n"
     ]
    }
   ],
   "source": [
    "# Can you tell why these come out differently?\n",
    "\n",
    "print(\"Group 1\")\n",
    "print(  5 *  30 + 20  )\n",
    "print(  5 * (30 + 20) )\n",
    "print(                )\n",
    "\n",
    "print(\"Group 2\")\n",
    "print(  ((5 + 30) * 20) / 10  )\n",
    "print(    5 + 30  * 20  / 10  )\n",
    "print(                        )\n",
    "\n",
    "print(\"Group 3\")\n",
    "print( (1 + 2)**3 )\n",
    "print(  1 + 2 **3 )"
   ]
  },
  {
   "cell_type": "markdown",
   "metadata": {},
   "source": [
    "### Variables\n",
    "\n",
    "Variables are are like labels for some kind of information.  They could be numbers, text, lists, or something else.  They can even make your program easier to understand!"
   ]
  },
  {
   "cell_type": "code",
   "execution_count": 17,
   "metadata": {},
   "outputs": [
    {
     "name": "stdout",
     "output_type": "stream",
     "text": [
      "31557600.0\n"
     ]
    }
   ],
   "source": [
    "# See how the variables make the equation easier to understand?\n",
    "\n",
    "seconds_per_minute = 60\n",
    "minutes_per_hour = 60\n",
    "hours_per_day = 24\n",
    "days_per_year = 365.25\n",
    "\n",
    "seconds_per_year = seconds_per_minute * minutes_per_hour * hours_per_day * days_per_year\n",
    "print(seconds_per_year)"
   ]
  },
  {
   "cell_type": "code",
   "execution_count": 18,
   "metadata": {},
   "outputs": [
    {
     "name": "stdout",
     "output_type": "stream",
     "text": [
      "In 31557600.0 seconds, it'll be today again!\n"
     ]
    }
   ],
   "source": [
    "# You can also use the variable later!\n",
    "\n",
    "print(f\"In {seconds_per_year} seconds, it'll be today again!\")"
   ]
  },
  {
   "cell_type": "code",
   "execution_count": null,
   "metadata": {},
   "outputs": [],
   "source": []
  }
 ],
 "metadata": {
  "kernelspec": {
   "display_name": "Python 3",
   "language": "python",
   "name": "python3"
  },
  "language_info": {
   "codemirror_mode": {
    "name": "ipython",
    "version": 3
   },
   "file_extension": ".py",
   "mimetype": "text/x-python",
   "name": "python",
   "nbconvert_exporter": "python",
   "pygments_lexer": "ipython3",
   "version": "3.7.4"
  }
 },
 "nbformat": 4,
 "nbformat_minor": 4
}
