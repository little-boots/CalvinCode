{
 "cells": [
  {
   "cell_type": "markdown",
   "metadata": {},
   "source": [
    "# Chapter 3\n",
    "## Strings, Lists, Tuples, and Maps"
   ]
  },
  {
   "cell_type": "markdown",
   "metadata": {},
   "source": [
    "### Strings\n",
    "\n",
    "A \"string\" in programming is just a bunch of text (letters, numbers, symbols, spaces, etc.) all put together.  Strings are very important for writing messages to the people that use your programs.  To make a string, just wrap some text up inside of quotes.\n",
    "\n",
    "#### Quotes\n",
    "\n",
    "There are two types of quotes: single quotes (`'`) and double quotes (`\"`).  To create a string in Python, you need to wrap text inside a pair of quotes.  _**Note**: they need to be the same type!_"
   ]
  },
  {
   "cell_type": "code",
   "execution_count": 17,
   "metadata": {},
   "outputs": [
    {
     "ename": "SyntaxError",
     "evalue": "EOL while scanning string literal (<ipython-input-17-b15a008939f6>, line 5)",
     "output_type": "error",
     "traceback": [
      "\u001b[0;36m  File \u001b[0;32m\"<ipython-input-17-b15a008939f6>\"\u001b[0;36m, line \u001b[0;32m5\u001b[0m\n\u001b[0;31m    nick_name = \"flatboy'\u001b[0m\n\u001b[0m                         ^\u001b[0m\n\u001b[0;31mSyntaxError\u001b[0m\u001b[0;31m:\u001b[0m EOL while scanning string literal\n"
     ]
    }
   ],
   "source": [
    "# Hmm... Why doesn't this code work right?\n",
    "\n",
    "first_name = \"Calvin\"\n",
    "last_name = 'Glessner'\n",
    "nick_name = \"flatboy'\n",
    "\n",
    "# Note: EOL means \"end of line\".  \n",
    "# Python is saying: \"Oh no!  I got to the end of the line and the string didn't end!\""
   ]
  },
  {
   "cell_type": "markdown",
   "metadata": {},
   "source": [
    "#### Multiline Strings\n",
    "\n",
    "You can make a string go over many lines by using three single quotes (`'''`) or three double quotes (`\"\"\"`). "
   ]
  },
  {
   "cell_type": "code",
   "execution_count": 10,
   "metadata": {},
   "outputs": [
    {
     "name": "stdout",
     "output_type": "stream",
     "text": [
      "\n",
      "This is my son, Calvin.  He's learning how to write computer\n",
      "code even though he's only seven years old!  If he keeps \n",
      "practicing, he'll be a super-good programmer some day!!\n",
      "\n"
     ]
    }
   ],
   "source": [
    "# You can save a whole paragraph!\n",
    "\n",
    "bio = \"\"\"\n",
    "This is my son, Calvin.  He's learning how to write computer\n",
    "code even though he's only seven years old!  If he keeps \n",
    "practicing, he'll be a super-good programmer some day!!\n",
    "\"\"\"\n",
    "\n",
    "print(bio)"
   ]
  },
  {
   "cell_type": "markdown",
   "metadata": {},
   "source": [
    "### Escaping Characters\n",
    "\n",
    "Sometimes it's hard to find quotes that will work.  When this happens, you can still try to \"escape\" the quotes by using a backslash (`\\`).  This tells Python to ignore those quotes and keep on reading."
   ]
  },
  {
   "cell_type": "code",
   "execution_count": 15,
   "metadata": {},
   "outputs": [
    {
     "ename": "SyntaxError",
     "evalue": "invalid syntax (<ipython-input-15-f56b25929e52>, line 6)",
     "output_type": "error",
     "traceback": [
      "\u001b[0;36m  File \u001b[0;32m\"<ipython-input-15-f56b25929e52>\"\u001b[0;36m, line \u001b[0;32m6\u001b[0m\n\u001b[0;31m    quote = \"   He said, \"It's a shame I must go.\"   \"\u001b[0m\n\u001b[0m                           ^\u001b[0m\n\u001b[0;31mSyntaxError\u001b[0m\u001b[0;31m:\u001b[0m invalid syntax\n"
     ]
    }
   ],
   "source": [
    "# The sentence below is hard to write in code:\n",
    "# He said, \"It's a shame I must go.\"\n",
    "\n",
    "# First attempt:\n",
    "# The colors of the words give a hint to where the problem is\n",
    "quote = \"   He said, \"It's a shame I must go.\"   \""
   ]
  },
  {
   "cell_type": "code",
   "execution_count": 12,
   "metadata": {},
   "outputs": [
    {
     "ename": "SyntaxError",
     "evalue": "invalid syntax (<ipython-input-12-63acb503e7ea>, line 2)",
     "output_type": "error",
     "traceback": [
      "\u001b[0;36m  File \u001b[0;32m\"<ipython-input-12-63acb503e7ea>\"\u001b[0;36m, line \u001b[0;32m2\u001b[0m\n\u001b[0;31m    quote = '   He said, \"It's a shame I must go.\"   '\u001b[0m\n\u001b[0m                             ^\u001b[0m\n\u001b[0;31mSyntaxError\u001b[0m\u001b[0;31m:\u001b[0m invalid syntax\n"
     ]
    }
   ],
   "source": [
    "# Second attempt:\n",
    "quote = '   He said, \"It's a shame I must go.\"   '"
   ]
  },
  {
   "cell_type": "code",
   "execution_count": 13,
   "metadata": {},
   "outputs": [],
   "source": [
    "# Okay... let's try escaping quotes\n",
    "quote = \"   He said, \\\"It\\'s a shame I must go.\\\"   \""
   ]
  },
  {
   "cell_type": "code",
   "execution_count": 14,
   "metadata": {},
   "outputs": [
    {
     "name": "stdout",
     "output_type": "stream",
     "text": [
      "   He said, \"It's a shame I must go.\"   \n"
     ]
    }
   ],
   "source": [
    "print(quote)"
   ]
  },
  {
   "cell_type": "markdown",
   "metadata": {},
   "source": [
    "### Embedding Values in Strings\n",
    "\n",
    "One cool thing you can do with a value you have saved is put it inside a message.  There are a few ways you can do this."
   ]
  },
  {
   "cell_type": "markdown",
   "metadata": {},
   "source": [
    "#### %s substitution\n",
    "\n",
    "This is what the book shows you, but it's the old way and I don't really like it."
   ]
  },
  {
   "cell_type": "code",
   "execution_count": 5,
   "metadata": {},
   "outputs": [
    {
     "name": "stdout",
     "output_type": "stream",
     "text": [
      "Daddy is 30 years older than Calvin\n",
      "Daddy is 30 years older than Calvin and they both have a doggy named Mabel\n"
     ]
    }
   ],
   "source": [
    "## Do some math\n",
    "calvin_age = 7\n",
    "daddy_age = 37\n",
    "calvin_diff = daddy_age - calvin_age\n",
    "\n",
    "## Get a message ready\n",
    "message = 'Daddy is %s years older than Calvin'\n",
    "\n",
    "## Write the message\n",
    "print(message % calvin_diff)\n",
    "\n",
    "## You can add more values\n",
    "doggy = 'Mabel'\n",
    "longer_message = 'Daddy is %s years older than Calvin and they both have a doggy named %s'\n",
    "print(longer_message % (calvin_diff, doggy))"
   ]
  },
  {
   "cell_type": "markdown",
   "metadata": {},
   "source": [
    "#### f-strings\n",
    "\n",
    "This isn't in the book, but it's easier and better.  You should learn this."
   ]
  },
  {
   "cell_type": "code",
   "execution_count": 4,
   "metadata": {},
   "outputs": [
    {
     "name": "stdout",
     "output_type": "stream",
     "text": [
      "Daddy is 30 years older than Calvin, 32 years older than Adriana, and 6 years younger than mommy!\n"
     ]
    }
   ],
   "source": [
    "# Do some more math\n",
    "adriana_age = 5\n",
    "adriana_diff = daddy_age - adriana_age\n",
    "\n",
    "mommy_age = 43\n",
    "\n",
    "# Make an f-string using this syntax: f''\n",
    "# Add variables inside of braces, {}, to tell Python to substitute a value\n",
    "# You can even do math inside the braces!\n",
    "# See how much easier this is to read?\n",
    "print(f'Daddy is {calvin_diff} years older than Calvin, {adriana_diff} years older than Adriana, and {mommy_age - daddy_age} years younger than mommy!')"
   ]
  },
  {
   "cell_type": "markdown",
   "metadata": {},
   "source": [
    "### Multiplying Strings\n",
    "\n",
    "You can multiply strings to make them longer!  Weird stuff, but it could be handy."
   ]
  },
  {
   "cell_type": "code",
   "execution_count": 5,
   "metadata": {},
   "outputs": [
    {
     "name": "stdout",
     "output_type": "stream",
     "text": [
      "oooooooooo\n",
      "\n",
      "Spooky cave:\n",
      "==========\n",
      "|        |\n",
      "|        |\n",
      "|        |\n",
      "==========\n",
      "So spooky....................................................................................................\n"
     ]
    }
   ],
   "source": [
    "# 10 'o's\n",
    "print(10 * 'o')\n",
    "\n",
    "# You could get creative...\n",
    "top_bottom = 10 * '='         ## This is just 10 equals signs\n",
    "middle = '|' + 8 * ' ' + '|'  ## This is a pipe, 8 spaces, then another pipe\n",
    "\n",
    "print()\n",
    "print('Spooky cave:')\n",
    "print(top_bottom)\n",
    "print(middle)\n",
    "print(middle)\n",
    "print(middle)\n",
    "print(top_bottom)\n",
    "print('So spooky' + 100*'.')"
   ]
  },
  {
   "cell_type": "markdown",
   "metadata": {},
   "source": [
    "## Lists\n",
    "\n",
    "A list is a way of holding a bunch of variables.  You can make a list of strings, numbers, or whatever you want!"
   ]
  },
  {
   "cell_type": "code",
   "execution_count": 8,
   "metadata": {},
   "outputs": [
    {
     "name": "stdout",
     "output_type": "stream",
     "text": [
      "My best friends are:\n",
      "['Gabe', 'Josh', 'Landon', 'Joshua']\n",
      "\n",
      "I love my friend, Josh!!\n"
     ]
    }
   ],
   "source": [
    "# You could store a bunch of stuff in a string\n",
    "string_list = 'Gabe, Josh, Landon, and Joshua'\n",
    "\n",
    "# But there's a better way\n",
    "real_list = ['Gabe', 'Josh', 'Landon', 'Joshua']\n",
    "print('My best friends are:')\n",
    "print(real_list)\n",
    "\n",
    "# Now you can invite over just one...\n",
    "friend = real_list[1]\n",
    "print()\n",
    "print(f'I love my friend, {friend}!!')"
   ]
  },
  {
   "cell_type": "markdown",
   "metadata": {},
   "source": [
    "### Indexes\n",
    "\n",
    "An index is a number that shows where something belongs or where you can find it.  Our house number is like an index that lets people find us.\n",
    "\n",
    "Python uses indexes to find things in lists.  Above, we used `real_list[1]` to ask for item 1 from `real_list`.  In Python, lists always start from 0 instead of 1.  That's why `real_list[1]` shows the second friend on the list!  You can also give Python two numbers instead of just one to get more of your list.\n",
    "\n",
    "If it's hard to remember how indexes work in Python, it might help to think about it like this:\n",
    "\n",
    "```\n",
    "| 1st thing | 2nd thing | 3rd thing | Etc.  \n",
    "----------------------------------------------\n",
    "0           1           2           3\n",
    "```\n",
    "\n",
    "`list[0]` gives you whatever's right after 0 (1st thing).  `list[1:3]` gives you what's between 1 and 3 (2nd and 3rd things).  What do you think `list[-1]` does?"
   ]
  },
  {
   "cell_type": "code",
   "execution_count": 8,
   "metadata": {},
   "outputs": [
    {
     "name": "stdout",
     "output_type": "stream",
     "text": [
      "Calvin goes to school on: ['Monday', 'Tuesday', 'Wednesday', 'Thursday', 'Friday']\n",
      "[['this', 'is', 'a', 'list', 'of', 'lists'], [1, 2, 3, 4], ['a', 1, 'b', 2]]\n",
      "['this', 'is', 'a', 'list', 'of', 'lists']\n",
      "this\n"
     ]
    }
   ],
   "source": [
    "# Slicing\n",
    "days = ['Sunday', 'Monday', 'Tuesday', 'Wednesday', 'Thursday', 'Friday', 'Saturday']\n",
    "print(f'Calvin goes to school on: {days[1:6]}')\n",
    "\n",
    "# You can put other things into a list.  Even other lists.\n",
    "list_o_lists = [['this', 'is', 'a', 'list', 'of', 'lists'], [1, 2, 3, 4], ['a', 1, 'b', 2]]\n",
    "print(list_o_lists)\n",
    "print(list_o_lists[0])\n",
    "print(list_o_lists[0][0])"
   ]
  },
  {
   "cell_type": "markdown",
   "metadata": {},
   "source": [
    "### Adding and removing from a list\n",
    "\n",
    "You can use *functions* to add or remove things from a list.  Lots of things in Python can be changed using functions.\n",
    "\n",
    "The function `append` will add on to the end of a list.  `del` can be used to delete (get rid of) something from the list."
   ]
  },
  {
   "cell_type": "code",
   "execution_count": 12,
   "metadata": {},
   "outputs": [
    {
     "name": "stdout",
     "output_type": "stream",
     "text": [
      "[]\n",
      "[1, 2, 3, 4, 5]\n",
      "[1, 2, 4, 5]\n",
      "[1, 2, 5]\n"
     ]
    }
   ],
   "source": [
    "numlist = []\n",
    "print(numlist)\n",
    "\n",
    "# Add iterms\n",
    "numlist.append(1)\n",
    "numlist.append(2)\n",
    "numlist.append(3)\n",
    "numlist.append(4)\n",
    "numlist.append(5)\n",
    "print(numlist)\n",
    "\n",
    "# Remove items\n",
    "del numlist[2]\n",
    "print(numlist)\n",
    "\n",
    "del numlist[2]\n",
    "print(numlist)\n"
   ]
  },
  {
   "cell_type": "markdown",
   "metadata": {},
   "source": [
    "### List Arithmetic\n",
    "\n",
    "You can do basic arithmetic on lists, as long as what you're trying to do makes sense.  Adding and multiplying work, but subtracting and dividing don't."
   ]
  },
  {
   "cell_type": "code",
   "execution_count": 7,
   "metadata": {},
   "outputs": [
    {
     "name": "stdout",
     "output_type": "stream",
     "text": [
      "['mangoes', 'grapes', 'apples', 'bananas', 'spinach', 'carrots', 'celery', 'cucumbers']\n",
      "\n",
      "['mangoes', 'grapes', 'apples', 'bananas', 'mangoes', 'grapes', 'apples', 'bananas']\n"
     ]
    },
    {
     "ename": "TypeError",
     "evalue": "unsupported operand type(s) for /: 'list' and 'list'",
     "output_type": "error",
     "traceback": [
      "\u001b[0;31m---------------------------------------------------------------------------\u001b[0m",
      "\u001b[0;31mTypeError\u001b[0m                                 Traceback (most recent call last)",
      "\u001b[0;32m<ipython-input-7-951966cb9c4b>\u001b[0m in \u001b[0;36m<module>\u001b[0;34m\u001b[0m\n\u001b[1;32m      9\u001b[0m \u001b[0;34m\u001b[0m\u001b[0m\n\u001b[1;32m     10\u001b[0m \u001b[0;31m# The next one will throw an error\u001b[0m\u001b[0;34m\u001b[0m\u001b[0;34m\u001b[0m\u001b[0;34m\u001b[0m\u001b[0m\n\u001b[0;32m---> 11\u001b[0;31m \u001b[0mprint\u001b[0m\u001b[0;34m(\u001b[0m\u001b[0mlist1\u001b[0m \u001b[0;34m/\u001b[0m \u001b[0mlist2\u001b[0m\u001b[0;34m)\u001b[0m\u001b[0;34m\u001b[0m\u001b[0;34m\u001b[0m\u001b[0m\n\u001b[0m",
      "\u001b[0;31mTypeError\u001b[0m: unsupported operand type(s) for /: 'list' and 'list'"
     ]
    }
   ],
   "source": [
    "# Adding lists\n",
    "list1 = ['mangoes', 'grapes', 'apples', 'bananas']\n",
    "list2 = ['spinach', 'carrots', 'celery', 'cucumbers']\n",
    "print(list1 + list2)\n",
    "\n",
    "# Multiplying lists\n",
    "print()\n",
    "print(2*list1)\n",
    "\n",
    "# The next one will throw an error\n",
    "# What would \"divide\" mean here anyway?\n",
    "print(list1 / list2)"
   ]
  },
  {
   "cell_type": "markdown",
   "metadata": {},
   "source": [
    "## Tuples\n",
    "\n",
    "A tuple is like a list that you're not allowed to change.  This is also called being \"immutable\"."
   ]
  },
  {
   "cell_type": "code",
   "execution_count": 13,
   "metadata": {},
   "outputs": [
    {
     "name": "stdout",
     "output_type": "stream",
     "text": [
      "('Leonardo', 'Donatello', 'Raphael', 'Michelangelo')\n"
     ]
    },
    {
     "ename": "TypeError",
     "evalue": "'tuple' object doesn't support item deletion",
     "output_type": "error",
     "traceback": [
      "\u001b[0;31m---------------------------------------------------------------------------\u001b[0m",
      "\u001b[0;31mTypeError\u001b[0m                                 Traceback (most recent call last)",
      "\u001b[0;32m<ipython-input-13-92b238f74e68>\u001b[0m in \u001b[0;36m<module>\u001b[0;34m\u001b[0m\n\u001b[1;32m      4\u001b[0m \u001b[0;34m\u001b[0m\u001b[0m\n\u001b[1;32m      5\u001b[0m \u001b[0;31m# Let's just try to get rid of ol' Don...\u001b[0m\u001b[0;34m\u001b[0m\u001b[0;34m\u001b[0m\u001b[0;34m\u001b[0m\u001b[0m\n\u001b[0;32m----> 6\u001b[0;31m \u001b[0;32mdel\u001b[0m \u001b[0mteenage_mutant_ninja_turtles\u001b[0m\u001b[0;34m[\u001b[0m\u001b[0;36m1\u001b[0m\u001b[0;34m]\u001b[0m\u001b[0;34m\u001b[0m\u001b[0;34m\u001b[0m\u001b[0m\n\u001b[0m",
      "\u001b[0;31mTypeError\u001b[0m: 'tuple' object doesn't support item deletion"
     ]
    }
   ],
   "source": [
    "# Some things will never change\n",
    "teenage_mutant_ninja_turtles = ('Leonardo', 'Donatello', 'Raphael', 'Michelangelo')\n",
    "print(teenage_mutant_ninja_turtles)\n",
    "\n",
    "# Let's just try to get rid of ol' Don...\n",
    "del teenage_mutant_ninja_turtles[1]"
   ]
  },
  {
   "cell_type": "markdown",
   "metadata": {},
   "source": [
    "## Dictionaries (Maps)\n",
    "\n",
    "Dictionaries (or maps, as the book says) are a way of storing information that needs to be paired up (like words and definitions in a real dictionary).\n",
    "\n",
    "Dictionaries always have \"keys\" and \"values\".  Python can use the key to look up the value that's stored."
   ]
  },
  {
   "cell_type": "code",
   "execution_count": 33,
   "metadata": {},
   "outputs": [
    {
     "name": "stdout",
     "output_type": "stream",
     "text": [
      "Calvin Ko Glessner\n",
      "Meet Calvin Ko Glessner.  He was born on 2012-08-11 and he goes to Cardinal Charter Academy.\n",
      "Adriana Yilin Glessner\n",
      "{'full_name': 'Calvin Ko Glessner', 'dob': '2012-08-11', 'aliases': ['Flatboy', 'Good Fitz'], 'school': 'Cardinal Charter Academy'}\n"
     ]
    }
   ],
   "source": [
    "# Calvin bio:\n",
    "calvin = {\"full_name\": \"Calvin Ko Glessner\",\n",
    "          \"dob\":       \"2012-08-11\",\n",
    "          \"aliases\":   [\"Flatboy\", \"Good Fitz\"],\n",
    "          \"school\":    \"Cardinal Charter Academy\"}\n",
    "\n",
    "# Now we can see just your name\n",
    "print(calvin['full_name'])\n",
    "\n",
    "# Or use lots of info at once\n",
    "print(f'Meet {calvin[\"full_name\"]}.  He was born on {calvin[\"dob\"]} and he goes to {calvin[\"school\"]}.')\n",
    "\n",
    "#print(calvin['aliases'])\n",
    "#print(calvin['aliases'][0])\n",
    "\n",
    "# To add another entry to your dictionary, just tell Python what value you want\n",
    "calvin[\"sister_name\"] = \"Adriana Yilin Glessner\"\n",
    "print(calvin[\"sister_name\"])\n",
    "\n",
    "# If you decide you don't like it, del still works\n",
    "del calvin['sister_name']\n",
    "print(calvin)"
   ]
  },
  {
   "cell_type": "code",
   "execution_count": null,
   "metadata": {},
   "outputs": [],
   "source": []
  }
 ],
 "metadata": {
  "kernelspec": {
   "display_name": "Python 3",
   "language": "python",
   "name": "python3"
  },
  "language_info": {
   "codemirror_mode": {
    "name": "ipython",
    "version": 3
   },
   "file_extension": ".py",
   "mimetype": "text/x-python",
   "name": "python",
   "nbconvert_exporter": "python",
   "pygments_lexer": "ipython3",
   "version": "3.8.1"
  }
 },
 "nbformat": 4,
 "nbformat_minor": 4
}
