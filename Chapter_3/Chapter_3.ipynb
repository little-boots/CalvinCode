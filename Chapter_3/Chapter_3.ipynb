{
 "cells": [
  {
   "cell_type": "markdown",
   "metadata": {},
   "source": [
    "# Chapter 3\n",
    "## Strings, Lists, Tuples, and Maps"
   ]
  },
  {
   "cell_type": "markdown",
   "metadata": {},
   "source": [
    "### Strings\n",
    "\n",
    "A \"string\" in programming is just a bunch of text (letters, numbers, symbols, spaces, etc.) all put together.  Strings are very important for writing messages to the people that use your programs.  To make a string, just wrap some text up inside of quotes.\n",
    "\n",
    "#### Quotes\n",
    "\n",
    "There are two types of quotes: single quotes (`'`) and double quotes (`\"`).  To create a string in Python, you need to wrap text inside a pair of quotes.  _**Note**: they need to be the same type!_"
   ]
  },
  {
   "cell_type": "code",
   "execution_count": 17,
   "metadata": {},
   "outputs": [
    {
     "ename": "SyntaxError",
     "evalue": "EOL while scanning string literal (<ipython-input-17-b15a008939f6>, line 5)",
     "output_type": "error",
     "traceback": [
      "\u001b[0;36m  File \u001b[0;32m\"<ipython-input-17-b15a008939f6>\"\u001b[0;36m, line \u001b[0;32m5\u001b[0m\n\u001b[0;31m    nick_name = \"flatboy'\u001b[0m\n\u001b[0m                         ^\u001b[0m\n\u001b[0;31mSyntaxError\u001b[0m\u001b[0;31m:\u001b[0m EOL while scanning string literal\n"
     ]
    }
   ],
   "source": [
    "# Hmm... Why doesn't this code work right?\n",
    "\n",
    "first_name = \"Calvin\"\n",
    "last_name = 'Glessner'\n",
    "nick_name = \"flatboy'\n",
    "\n",
    "# Note: EOL means \"end of line\".  \n",
    "# Python is saying: \"Oh no!  I got to the end of the line and the string didn't end!\""
   ]
  },
  {
   "cell_type": "markdown",
   "metadata": {},
   "source": [
    "#### Multiline Strings\n",
    "\n",
    "You can make a string go over many lines by using three single quotes (`'''`) or three double quotes (`\"\"\"`). "
   ]
  },
  {
   "cell_type": "code",
   "execution_count": 10,
   "metadata": {},
   "outputs": [
    {
     "name": "stdout",
     "output_type": "stream",
     "text": [
      "\n",
      "This is my son, Calvin.  He's learning how to write computer\n",
      "code even though he's only seven years old!  If he keeps \n",
      "practicing, he'll be a super-good programmer some day!!\n",
      "\n"
     ]
    }
   ],
   "source": [
    "# You can save a whole paragraph!\n",
    "\n",
    "bio = \"\"\"\n",
    "This is my son, Calvin.  He's learning how to write computer\n",
    "code even though he's only seven years old!  If he keeps \n",
    "practicing, he'll be a super-good programmer some day!!\n",
    "\"\"\"\n",
    "\n",
    "print(bio)"
   ]
  },
  {
   "cell_type": "markdown",
   "metadata": {},
   "source": [
    "### Escaping Characters\n",
    "\n",
    "Sometimes it's hard to find quotes that will work.  When this happens, you can still try to \"escape\" the quotes by using a backslash (`\\`).  This tells Python to ignore those quotes and keep on reading."
   ]
  },
  {
   "cell_type": "code",
   "execution_count": 15,
   "metadata": {},
   "outputs": [
    {
     "ename": "SyntaxError",
     "evalue": "invalid syntax (<ipython-input-15-f56b25929e52>, line 6)",
     "output_type": "error",
     "traceback": [
      "\u001b[0;36m  File \u001b[0;32m\"<ipython-input-15-f56b25929e52>\"\u001b[0;36m, line \u001b[0;32m6\u001b[0m\n\u001b[0;31m    quote = \"   He said, \"It's a shame I must go.\"   \"\u001b[0m\n\u001b[0m                           ^\u001b[0m\n\u001b[0;31mSyntaxError\u001b[0m\u001b[0;31m:\u001b[0m invalid syntax\n"
     ]
    }
   ],
   "source": [
    "# The sentence below is hard to write in code:\n",
    "# He said, \"It's a shame I must go.\"\n",
    "\n",
    "# First attempt:\n",
    "# The colors of the words give a hint to where the problem is\n",
    "quote = \"   He said, \"It's a shame I must go.\"   \""
   ]
  },
  {
   "cell_type": "code",
   "execution_count": 12,
   "metadata": {},
   "outputs": [
    {
     "ename": "SyntaxError",
     "evalue": "invalid syntax (<ipython-input-12-63acb503e7ea>, line 2)",
     "output_type": "error",
     "traceback": [
      "\u001b[0;36m  File \u001b[0;32m\"<ipython-input-12-63acb503e7ea>\"\u001b[0;36m, line \u001b[0;32m2\u001b[0m\n\u001b[0;31m    quote = '   He said, \"It's a shame I must go.\"   '\u001b[0m\n\u001b[0m                             ^\u001b[0m\n\u001b[0;31mSyntaxError\u001b[0m\u001b[0;31m:\u001b[0m invalid syntax\n"
     ]
    }
   ],
   "source": [
    "# Second attempt:\n",
    "quote = '   He said, \"It's a shame I must go.\"   '"
   ]
  },
  {
   "cell_type": "code",
   "execution_count": 13,
   "metadata": {},
   "outputs": [],
   "source": [
    "# Okay... let's try escaping quotes\n",
    "quote = \"   He said, \\\"It\\'s a shame I must go.\\\"   \""
   ]
  },
  {
   "cell_type": "code",
   "execution_count": 14,
   "metadata": {},
   "outputs": [
    {
     "name": "stdout",
     "output_type": "stream",
     "text": [
      "   He said, \"It's a shame I must go.\"   \n"
     ]
    }
   ],
   "source": [
    "print(quote)"
   ]
  },
  {
   "cell_type": "markdown",
   "metadata": {},
   "source": [
    "### Embedding Values in Strings\n",
    "\n",
    "One cool thing you can do with a value you have saved is put it inside a message.  There are a few ways you can do this."
   ]
  },
  {
   "cell_type": "markdown",
   "metadata": {},
   "source": [
    "#### %s substitution\n",
    "\n",
    "This is what the book shows you, but it's the old way and I don't really like it."
   ]
  },
  {
   "cell_type": "code",
   "execution_count": 5,
   "metadata": {},
   "outputs": [
    {
     "name": "stdout",
     "output_type": "stream",
     "text": [
      "Daddy is 30 years older than Calvin\n",
      "Daddy is 30 years older than Calvin and they both have a doggy named Mabel\n"
     ]
    }
   ],
   "source": [
    "## Do some math\n",
    "calvin_age = 7\n",
    "daddy_age = 37\n",
    "calvin_diff = daddy_age - calvin_age\n",
    "\n",
    "## Get a message ready\n",
    "message = 'Daddy is %s years older than Calvin'\n",
    "\n",
    "## Write the message\n",
    "print(message % calvin_diff)\n",
    "\n",
    "## You can add more values\n",
    "doggy = 'Mabel'\n",
    "longer_message = 'Daddy is %s years older than Calvin and they both have a doggy named %s'\n",
    "print(longer_message % (calvin_diff, doggy))"
   ]
  },
  {
   "cell_type": "markdown",
   "metadata": {},
   "source": [
    "#### f-strings\n",
    "\n",
    "This isn't in the book, but it's easier and better.  You should learn this."
   ]
  },
  {
   "cell_type": "code",
   "execution_count": 4,
   "metadata": {},
   "outputs": [
    {
     "name": "stdout",
     "output_type": "stream",
     "text": [
      "Daddy is 30 years older than Calvin, 32 years older than Adriana, and 6 years younger than mommy!\n"
     ]
    }
   ],
   "source": [
    "# Do some more math\n",
    "adriana_age = 5\n",
    "adriana_diff = daddy_age - adriana_age\n",
    "\n",
    "mommy_age = 43\n",
    "\n",
    "# Make an f-string using this syntax: f''\n",
    "# Add variables inside of braces, {}, to tell Python to substitute a value\n",
    "# You can even do math inside the braces!\n",
    "# See how much easier this is to read?\n",
    "print(f'Daddy is {calvin_diff} years older than Calvin, {adriana_diff} years older than Adriana, and {mommy_age - daddy_age} years younger than mommy!')"
   ]
  },
  {
   "cell_type": "markdown",
   "metadata": {},
   "source": [
    "### Multiplying Strings\n",
    "\n",
    "You can multiply strings to make them longer!  Weird stuff, but it could be handy."
   ]
  },
  {
   "cell_type": "code",
   "execution_count": 16,
   "metadata": {},
   "outputs": [
    {
     "name": "stdout",
     "output_type": "stream",
     "text": [
      "oooooooooo\n",
      "\n",
      "Spooky cave...\n",
      "==========\n",
      "|        |\n",
      "|        |\n",
      "|        |\n",
      "==========\n"
     ]
    }
   ],
   "source": [
    "# 10 'o's\n",
    "print(10 * 'o')\n",
    "\n",
    "# You could get creative...\n",
    "top_bottom = 10 * '='         ## This is just 10 equals signs\n",
    "middle = '|' + 8 * ' ' + '|'  ## This is a pipe, 8 spaces, then another pipe\n",
    "\n",
    "print()\n",
    "print('Spooky cave...')\n",
    "print(top_bottom)\n",
    "print(middle)\n",
    "print(middle)\n",
    "print(middle)\n",
    "print(top_bottom)"
   ]
  },
  {
   "cell_type": "code",
   "execution_count": null,
   "metadata": {},
   "outputs": [],
   "source": []
  }
 ],
 "metadata": {
  "kernelspec": {
   "display_name": "Python 3",
   "language": "python",
   "name": "python3"
  },
  "language_info": {
   "codemirror_mode": {
    "name": "ipython",
    "version": 3
   },
   "file_extension": ".py",
   "mimetype": "text/x-python",
   "name": "python",
   "nbconvert_exporter": "python",
   "pygments_lexer": "ipython3",
   "version": "3.8.0"
  }
 },
 "nbformat": 4,
 "nbformat_minor": 4
}
