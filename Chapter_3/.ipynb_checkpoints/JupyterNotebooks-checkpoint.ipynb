{
 "cells": [
  {
   "cell_type": "markdown",
   "metadata": {},
   "source": [
    "# Jupyter Notebooks\n",
    "\n",
    "Jupyter Notebooks are a \"pretty\" way to run Python code interactively.  Check it out!"
   ]
  },
  {
   "cell_type": "code",
   "execution_count": 11,
   "metadata": {},
   "outputs": [],
   "source": [
    "# Store your data in this step\n",
    "\n",
    "favorite_games = {\n",
    "    \"Daddy\": [\"Super Mario Tennis\",\n",
    "              \"The Legend Of Zelda, Ocarina of Time\",\n",
    "              \"Final Fantasy Tactics\"],\n",
    "    \"Calvin\": [\"MineCraft\",\n",
    "               \"Roblox\",\n",
    "               \"Super Mario 64\",\n",
    "               \"Super Mario Kart 64\"]\n",
    "}"
   ]
  },
  {
   "cell_type": "code",
   "execution_count": 9,
   "metadata": {},
   "outputs": [
    {
     "data": {
      "text/plain": [
       "['MineCraft', 'Roblox', 'Super Mario 64', 'Super Mario Kart 64']"
      ]
     },
     "execution_count": 9,
     "metadata": {},
     "output_type": "execute_result"
    }
   ],
   "source": [
    "# Check it here\n",
    "\n",
    "favorite_games[\"Calvin\"]"
   ]
  },
  {
   "cell_type": "code",
   "execution_count": 10,
   "metadata": {},
   "outputs": [
    {
     "name": "stdout",
     "output_type": "stream",
     "text": [
      "Daddy's favorite games are:\n",
      "\tSuper Mario Tennis\n",
      "\tThe Legend Of Zelda, Ocarina of Time\n",
      "\tFinal Fantasy Tactics\n",
      "\n",
      "Calvin's favorite games are:\n",
      "\tMineCraft\n",
      "\tRoblox\n",
      "\tSuper Mario 64\n",
      "\tSuper Mario Kart 64\n",
      "\n"
     ]
    }
   ],
   "source": [
    "# Get creative!\n",
    "\n",
    "for name_, list_ in favorite_games.items():\n",
    "    print(f\"{name_}'s favorite games are:\")\n",
    "    for game in list_:\n",
    "        print('\\t' + game)\n",
    "    print()"
   ]
  },
  {
   "cell_type": "code",
   "execution_count": null,
   "metadata": {},
   "outputs": [],
   "source": []
  }
 ],
 "metadata": {
  "kernelspec": {
   "display_name": "Python 3",
   "language": "python",
   "name": "python3"
  },
  "language_info": {
   "codemirror_mode": {
    "name": "ipython",
    "version": 3
   },
   "file_extension": ".py",
   "mimetype": "text/x-python",
   "name": "python",
   "nbconvert_exporter": "python",
   "pygments_lexer": "ipython3",
   "version": "3.7.4"
  }
 },
 "nbformat": 4,
 "nbformat_minor": 4
}
