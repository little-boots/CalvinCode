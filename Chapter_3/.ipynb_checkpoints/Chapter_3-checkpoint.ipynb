{
 "cells": [
  {
   "cell_type": "markdown",
   "metadata": {},
   "source": [
    "# Chapter 3\n",
    "## Strings, Lists, Tuples, and Maps"
   ]
  },
  {
   "cell_type": "markdown",
   "metadata": {},
   "source": [
    "### Strings\n",
    "\n",
    "A \"string\" in programming is just a bunch of text (letters, numbers, symbols, spaces, etc.) all put together.  Strings are very important for writing messages to the people that use your programs.  To make a string, just wrap some text up inside of quotes.\n",
    "\n",
    "#### Quotes\n",
    "\n",
    "There are two types of quotes: single quotes (`'`) and double quotes (`\"`).  To create a string in Python, you need to wrap text inside a pair of quotes.  _**Note**: they need to be the same type!_"
   ]
  },
  {
   "cell_type": "code",
   "execution_count": 17,
   "metadata": {},
   "outputs": [
    {
     "ename": "SyntaxError",
     "evalue": "EOL while scanning string literal (<ipython-input-17-b15a008939f6>, line 5)",
     "output_type": "error",
     "traceback": [
      "\u001b[0;36m  File \u001b[0;32m\"<ipython-input-17-b15a008939f6>\"\u001b[0;36m, line \u001b[0;32m5\u001b[0m\n\u001b[0;31m    nick_name = \"flatboy'\u001b[0m\n\u001b[0m                         ^\u001b[0m\n\u001b[0;31mSyntaxError\u001b[0m\u001b[0;31m:\u001b[0m EOL while scanning string literal\n"
     ]
    }
   ],
   "source": [
    "# Hmm... Why doesn't this code work right?\n",
    "\n",
    "first_name = \"Calvin\"\n",
    "last_name = 'Glessner'\n",
    "nick_name = \"flatboy'\n",
    "\n",
    "# Note: EOL means \"end of line\".  \n",
    "# Python is saying: \"Oh no!  I got to the end of the line and the string didn't end!\""
   ]
  },
  {
   "cell_type": "markdown",
   "metadata": {},
   "source": [
    "#### Multiline Strings\n",
    "\n",
    "You can make a string go over many lines by using three single quotes (`'''`) or three double quotes (`\"\"\"`). "
   ]
  },
  {
   "cell_type": "code",
   "execution_count": 10,
   "metadata": {},
   "outputs": [
    {
     "name": "stdout",
     "output_type": "stream",
     "text": [
      "\n",
      "This is my son, Calvin.  He's learning how to write computer\n",
      "code even though he's only seven years old!  If he keeps \n",
      "practicing, he'll be a super-good programmer some day!!\n",
      "\n"
     ]
    }
   ],
   "source": [
    "# You can save a whole paragraph!\n",
    "\n",
    "bio = \"\"\"\n",
    "This is my son, Calvin.  He's learning how to write computer\n",
    "code even though he's only seven years old!  If he keeps \n",
    "practicing, he'll be a super-good programmer some day!!\n",
    "\"\"\"\n",
    "\n",
    "print(bio)"
   ]
  },
  {
   "cell_type": "markdown",
   "metadata": {},
   "source": [
    "### Escaping Characters\n",
    "\n",
    "Sometimes it's hard to find quotes that will work.  When this happens, you can still try to \"escape\" the quotes by using a backslash (`\\`).  This tells Python to ignore those quotes and keep on reading."
   ]
  },
  {
   "cell_type": "code",
   "execution_count": 15,
   "metadata": {},
   "outputs": [
    {
     "ename": "SyntaxError",
     "evalue": "invalid syntax (<ipython-input-15-f56b25929e52>, line 6)",
     "output_type": "error",
     "traceback": [
      "\u001b[0;36m  File \u001b[0;32m\"<ipython-input-15-f56b25929e52>\"\u001b[0;36m, line \u001b[0;32m6\u001b[0m\n\u001b[0;31m    quote = \"   He said, \"It's a shame I must go.\"   \"\u001b[0m\n\u001b[0m                           ^\u001b[0m\n\u001b[0;31mSyntaxError\u001b[0m\u001b[0;31m:\u001b[0m invalid syntax\n"
     ]
    }
   ],
   "source": [
    "# The sentence below is hard to write in code:\n",
    "# He said, \"It's a shame I must go.\"\n",
    "\n",
    "# First attempt:\n",
    "# The colors of the words give a hint to where the problem is\n",
    "quote = \"   He said, \"It's a shame I must go.\"   \""
   ]
  },
  {
   "cell_type": "code",
   "execution_count": 12,
   "metadata": {},
   "outputs": [
    {
     "ename": "SyntaxError",
     "evalue": "invalid syntax (<ipython-input-12-63acb503e7ea>, line 2)",
     "output_type": "error",
     "traceback": [
      "\u001b[0;36m  File \u001b[0;32m\"<ipython-input-12-63acb503e7ea>\"\u001b[0;36m, line \u001b[0;32m2\u001b[0m\n\u001b[0;31m    quote = '   He said, \"It's a shame I must go.\"   '\u001b[0m\n\u001b[0m                             ^\u001b[0m\n\u001b[0;31mSyntaxError\u001b[0m\u001b[0;31m:\u001b[0m invalid syntax\n"
     ]
    }
   ],
   "source": [
    "# Second attempt:\n",
    "quote = '   He said, \"It's a shame I must go.\"   '"
   ]
  },
  {
   "cell_type": "code",
   "execution_count": 13,
   "metadata": {},
   "outputs": [],
   "source": [
    "# Okay... let's try escaping quotes\n",
    "quote = \"   He said, \\\"It\\'s a shame I must go.\\\"   \""
   ]
  },
  {
   "cell_type": "code",
   "execution_count": 14,
   "metadata": {},
   "outputs": [
    {
     "name": "stdout",
     "output_type": "stream",
     "text": [
      "   He said, \"It's a shame I must go.\"   \n"
     ]
    }
   ],
   "source": [
    "print(quote)"
   ]
  },
  {
   "cell_type": "code",
   "execution_count": null,
   "metadata": {},
   "outputs": [],
   "source": []
  }
 ],
 "metadata": {
  "kernelspec": {
   "display_name": "Python 3",
   "language": "python",
   "name": "python3"
  },
  "language_info": {
   "codemirror_mode": {
    "name": "ipython",
    "version": 3
   },
   "file_extension": ".py",
   "mimetype": "text/x-python",
   "name": "python",
   "nbconvert_exporter": "python",
   "pygments_lexer": "ipython3",
   "version": "3.7.4"
  }
 },
 "nbformat": 4,
 "nbformat_minor": 4
}
