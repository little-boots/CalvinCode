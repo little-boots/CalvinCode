{
 "cells": [
  {
   "cell_type": "markdown",
   "metadata": {},
   "source": [
    "# Chapter 3 Exercises\n",
    "\n",
    "In this chapter, we learned all about strings, lists, tuples, and dictionaries.  That's almost everything you need to start writing your own programs!  In this exercise, we'll create a Toy Buyback calculator that shows how much money you can make by donating toys.  I've written a lot of the code for you, but you'll still need to fill in some gaps and fix some errors along the way!\n",
    "\n",
    "### Helpful keyboard shortcuts\n",
    "\n",
    "| **Shortcut** | **Name** | **Description** |\n",
    "|---|---|---|\n",
    "| Ctrl + C | Copy | Copies selected text to clipboard (highlight text first!) |\n",
    "| Ctrl + X | Cut | Same as copy, but will delete the selected text first |\n",
    "| Ctrl + V | Paste | Put all the text from the clipboard where ever the cursor is |\n",
    "| Ctrl + Z | Undo | Undo the last thing you did |\n",
    "| Ctrl + Y | Redo | Redo the last thing you undid |\n",
    "\n",
    "Finally, don't forget you can use Shift and the arrow keys to highlight text!"
   ]
  },
  {
   "cell_type": "markdown",
   "metadata": {},
   "source": [
    "## Define variables\n",
    "\n",
    "It's helpful to define variables at the start of a long program so you can easily check to see what everything is called."
   ]
  },
  {
   "cell_type": "code",
   "execution_count": 75,
   "metadata": {},
   "outputs": [
    {
     "name": "stdout",
     "output_type": "stream",
     "text": [
      "All the money\n",
      "{'ten': 1000, 'five': 500, 'one': 100, 'quarter': 25, 'dime': 10, 'nickel': 5, 'penny': 1}\n",
      "\n",
      "My family\n",
      "['Daddy', 'Mommy', 'Calvin', 'Adriana']\n",
      "\n",
      "Nicknames\n",
      "{'Calvin': 'Flatboy', 'Adriana': 'Bubsler'}\n"
     ]
    }
   ],
   "source": [
    "# This dictionary shows how much money each toy is worth as a buyback\n",
    "prices = {\n",
    "    'Oversized toy': 10,\n",
    "    'Puzzle or board game': 1,\n",
    "    'Large book': 0.5,\n",
    "    'Small book': 0.15,\n",
    "    'Big toy': 100,\n",
    "    'Little toy': 0.5,\n",
    "    'Small bin': 4,\n",
    "    'MatchBox car': 0.1,\n",
    "    'Black hole': -100\n",
    "}\n",
    "\n",
    "# We need another dictionary to help us count money.  Can you finish the dictionary below?\n",
    "# Remember to remove the hashes (#) when you're done!\n",
    "\n",
    "#############################\n",
    "#       YOUR CODE HERE      #\n",
    "#############################\n",
    "\n",
    "currency = {\n",
    "    'ten':       1000,\n",
    "    'five':      500,\n",
    "    'one':       100,         \n",
    "    'quarter':   25,         \n",
    "    'dime':      10,\n",
    "    'nickel':    5,\n",
    "    'penny':     1\n",
    "}\n",
    "\n",
    "print(\"All the money\")\n",
    "print(currency)\n",
    "print()\n",
    "\n",
    "# Family members already know what things are worth.  Let's make a list of family members that we can check when we start the program.\n",
    "# Check your notes to see how to make a list!\n",
    "\n",
    "#############################\n",
    "#       YOUR CODE HERE      #\n",
    "#############################\n",
    "\n",
    "family = ['Daddy', 'Mommy', 'Calvin', 'Adriana']\n",
    "\n",
    "print(\"My family\")\n",
    "print(family)\n",
    "print\n",
    "\n",
    "#############################\n",
    "# !!!!!!!!! BONUS !!!!!!!!! #\n",
    "#############################\n",
    "\n",
    "# BONUS: Make a dictionary that stores people's nicknames.  You could call them by their nickname later in the program!\n",
    "\n",
    "nicknames = {'Calvin': 'Flatboy',\n",
    "             'Adriana': 'Bubsler'}\n",
    "\n",
    "print()\n",
    "print(\"Nicknames\")\n",
    "print(nicknames)"
   ]
  },
  {
   "cell_type": "markdown",
   "metadata": {},
   "source": [
    "## Check the data!\n",
    "\n",
    "It's always a good idea to check your data to make sure Python understood everything the way you expected.  Try adding code to the `print()` statements below to show the values requested.\n"
   ]
  },
  {
   "cell_type": "code",
   "execution_count": 76,
   "metadata": {},
   "outputs": [
    {
     "name": "stdout",
     "output_type": "stream",
     "text": [
      "10\n",
      "0.5\n",
      "A Big toy is worth 100 dollars!\n",
      "Why does Black hole have a value of -100?\n"
     ]
    }
   ],
   "source": [
    "#############################\n",
    "#       YOUR CODE HERE      #\n",
    "#############################\n",
    "\n",
    "# Try to print out some values from the prices dictionary to make sure they're right.\n",
    "\n",
    "print(prices[\"Oversized toy\"]) # What's the price of an Oversized toy?\n",
    "print(prices[\"Little toy\"]) # What about a Little toy?\n",
    "print(f'A Big toy is worth {prices[\"Big toy\"]} dollars!')  # An f-string!  What should we put insead of XXXX?\n",
    "\n",
    "#############################\n",
    "# !!!!!!!!! BONUS !!!!!!!!! #\n",
    "#############################\n",
    "\n",
    "# BONUS: Use %s substitution to print out one more value\n",
    "\n",
    "print(\"Why does Black hole have a value of %s?\" % prices[\"Black hole\"])"
   ]
  },
  {
   "cell_type": "markdown",
   "metadata": {},
   "source": [
    "## Oops...\n",
    "\n",
    "The big toy was *way* too expensive!  And we forgot Big bins!  And they're called Hot Wheels, not MatchBox...  But we can fix it!\n",
    "\n",
    "We'll need to update the dictionary before moving on.  Check your notes and the book for clues on what to do!"
   ]
  },
  {
   "cell_type": "code",
   "execution_count": 77,
   "metadata": {},
   "outputs": [
    {
     "name": "stdout",
     "output_type": "stream",
     "text": [
      "{'Oversized toy': 10, 'Puzzle or board game': 1, 'Large book': 0.5, 'Small book': 0.15, 'Big toy': 1, 'Little toy': 0.5, 'Small bin': 4, 'Big bin': 9, 'Hot Wheels car': 0.1}\n"
     ]
    }
   ],
   "source": [
    "#############################\n",
    "#       YOUR CODE HERE      #\n",
    "#############################\n",
    "\n",
    "# First, add Big bin to the prices dictionary.  The price should be 9.\n",
    "prices['Big bin'] = 9\n",
    "\n",
    "# Next, change the price of a Big toy from 100 to 1.\n",
    "# HINT: This is a lot like adding a new item\n",
    "prices['Big toy'] = 1\n",
    "\n",
    "# That Black hole toy doesn't belong... can you get rid of it?\n",
    "del prices['Black hole']\n",
    "\n",
    "#############################\n",
    "# !!!!!!!!! BONUS !!!!!!!!! #\n",
    "#############################\n",
    "\n",
    "# BONUS: Change the name from \"MatchBox car\" to \"Hot Wheels car\".\n",
    "# HINT: It will probably take two steps\n",
    "\n",
    "# First, add a new entry with the same price\n",
    "prices['Hot Wheels car'] = prices['MatchBox car']\n",
    "# Now get rid of the old entry\n",
    "del prices['MatchBox car']\n",
    "\n",
    "# One last check to make sure everything's right...\n",
    "print(prices)"
   ]
  },
  {
   "cell_type": "markdown",
   "metadata": {},
   "source": [
    "## Let's break things down\n",
    "\n",
    "Dictionaries are great, but sometimes they're too much to work with.  Let's pull out the names of the toy types into a list so we can use them more easily."
   ]
  },
  {
   "cell_type": "code",
   "execution_count": 78,
   "metadata": {},
   "outputs": [
    {
     "name": "stdout",
     "output_type": "stream",
     "text": [
      "Oversized toy\n",
      "Puzzle or board game\n",
      "Large book\n",
      "Small book\n",
      "Big toy\n",
      "Little toy\n",
      "Small bin\n",
      "Big bin\n",
      "Hot Wheels car\n"
     ]
    }
   ],
   "source": [
    "# You'll learn these functions later.  You can easily make a list from a dictionary.\n",
    "toylist = list(prices.keys())\n",
    "\n",
    "# This is a handy way of printing out lists\n",
    "for toy in toylist:\n",
    "    print(toy)"
   ]
  },
  {
   "cell_type": "code",
   "execution_count": 79,
   "metadata": {},
   "outputs": [
    {
     "name": "stdout",
     "output_type": "stream",
     "text": [
      "Large book\n",
      "Little toy\n",
      "Small bin\n",
      "\n",
      "No books\n",
      "--------------------------------------------------\n",
      "['Oversized toy', 'Puzzle or board game', 'Small book', 'Little toy', 'Small bin', 'Big bin', 'Hot Wheels car']\n",
      "\n",
      "Books are back\n",
      "--------------------------------------------------\n",
      "['Oversized toy', 'Puzzle or board game', 'Small book', 'Little toy', 'Small bin', 'Big bin', 'Hot Wheels car', 'Large book', 'Small book']\n",
      "\n",
      "Expanded toy list\n",
      "--------------------------------------------------\n",
      "['Oversized toy', 'Puzzle or board game', 'Small book', 'Little toy', 'Small bin', 'Big bin', 'Hot Wheels car', 'Large book', 'Small book', 'Rocket skates', 'Invisible robots', 'Laptops']\n"
     ]
    }
   ],
   "source": [
    "#############################\n",
    "#       YOUR CODE HERE      #\n",
    "#############################\n",
    "\n",
    "# Using toylist, can you get Python to print the right things?\n",
    "\n",
    "print( toylist[2] ) # Large book\n",
    "print( toylist[5] ) # Little toy\n",
    "print( toylist[-3] ) # Small bin\n",
    "print()\n",
    "\n",
    "#############################\n",
    "# !!!!!!!!! BONUS !!!!!!!!! #\n",
    "#############################\n",
    "\n",
    "# Now, let's get rid of Large book and Small book\n",
    "# BONUS: Try to do it in one step!\n",
    "\n",
    "del toylist[2]\n",
    "del toylist[3]\n",
    "# BONUS: del toylist[2:3]\n",
    "\n",
    "print(\"No books\")\n",
    "print(50*'-')\n",
    "print(toylist)\n",
    "print()\n",
    "\n",
    "#############################\n",
    "# !!!!!!!!! BONUS !!!!!!!!! #\n",
    "#############################\n",
    "\n",
    "# Now add them both back onto the end\n",
    "# BONUS: Try to do it in one step!\n",
    "\n",
    "toylist.append('Large book')\n",
    "toylist.append('Small book')\n",
    "# BONUS: toylist = toylist + ['Large book', 'Small book']\n",
    "\n",
    "print(\"Books are back\")\n",
    "print(50*'-')\n",
    "print(toylist)\n",
    "print()\n",
    "\n",
    "# Now make a new list with three new types of toys\n",
    "# Add your new list to toylist\n",
    "\n",
    "newtoys = ['Rocket skates', 'Invisible robots', 'Laptops']\n",
    "toylist += newtoys\n",
    "\n",
    "print(\"Expanded toy list\")\n",
    "print(50*'-')\n",
    "print(toylist)"
   ]
  },
  {
   "cell_type": "markdown",
   "metadata": {},
   "source": [
    "## Greet the user\n",
    "\n",
    "This program would be helpful to share with other people, so they can make donations, too!  Our family already knows the prices, so we'll ask the user who they are first.  We don't need to show the prices to everyone!"
   ]
  },
  {
   "cell_type": "code",
   "execution_count": 81,
   "metadata": {},
   "outputs": [
    {
     "name": "stdin",
     "output_type": "stream",
     "text": [
      "Welcome to Toy Buyback Calculator!  What's your name?  Joey\n"
     ]
    },
    {
     "name": "stdout",
     "output_type": "stream",
     "text": [
      "\n",
      "You must be new, Joey!  These are the prices for buyback:\n",
      "Oversized toy.................10 dollars\n",
      "Puzzle or board game..........1 dollars\n",
      "Large book....................0.5 dollars\n",
      "Small book....................0.15 dollars\n",
      "Big toy.......................1 dollars\n",
      "Little toy....................0.5 dollars\n",
      "Small bin.....................4 dollars\n",
      "Big bin.......................9 dollars\n",
      "Hot Wheels car................0.1 dollars\n"
     ]
    }
   ],
   "source": [
    "# This code can be used to ask the user a question and get back the answer\n",
    "name = input('Welcome to Toy Buyback Calculator!  What\\'s your name? ')\n",
    "print()\n",
    "\n",
    "# It's easy to see if something's in a list!\n",
    "if name in family:\n",
    "    \n",
    "    #############################\n",
    "    #       YOUR CODE HERE      #\n",
    "    #############################\n",
    "\n",
    "    # Print a message that you want family members to see\n",
    "    \n",
    "    print(f'Oh, hi, {name}!  Good to see you again!!')\n",
    "    print('Go ahead and list your toys!')\n",
    "    \n",
    "else:\n",
    "    # If we don't know the name, we need to show all the prices\n",
    "    print(f'You must be new, {name}!  These are the prices for buyback:')\n",
    "    for toy, price in prices.items():\n",
    "        padding = 30 - len(toy)\n",
    "        print(f'{toy}' + padding*'.' + f'{price} dollars')"
   ]
  },
  {
   "cell_type": "markdown",
   "metadata": {},
   "source": [
    "## Add it up\n",
    "\n",
    "Now that we have our dictionary, we we're ready to ask how many toys are being donated so we can figure out what they're all worth.  This part uses some tricky code that you don't need to know yet.  But it doesn't hurt to see it now!"
   ]
  },
  {
   "cell_type": "code",
   "execution_count": 82,
   "metadata": {},
   "outputs": [
    {
     "name": "stdin",
     "output_type": "stream",
     "text": [
      "How many Oversized toys? 3\n",
      "How many Puzzle or board games? 2\n",
      "How many Large books? 6\n",
      "How many Small books? 10\n",
      "How many Big toys? 2\n",
      "How many Little toys? 5\n",
      "How many Small bins? 1\n",
      "How many Big bins? 1\n",
      "How many Hot Wheels cars? 15\n"
     ]
    }
   ],
   "source": [
    "# Sometimes it helps to make an empty dictionary that you can add to later\n",
    "donated_toys = {}\n",
    "\n",
    "# This part goes through all the types of toys, one-by-one\n",
    "for toy in list(prices.keys()):\n",
    "    \n",
    "    # This part will ask how many of each toy you're donating\n",
    "    response = input(\n",
    "        \n",
    "        #############################\n",
    "        #       YOUR CODE HERE      #\n",
    "        #############################\n",
    "        \n",
    "        # How can we make this show the name of the toy?\n",
    "        # HINT: Try using an f-string!\n",
    "        \n",
    "        f'How many {toy}s?'\n",
    "    )\n",
    "    \n",
    "    # Now add the type of toy and the number donated to the dictionary we made earlier (donated_toys)\n",
    "    # HINT: Look in the next panel\n",
    "    \n",
    "    donated_toys[toy] = response\n",
    "    \n",
    "print()    \n",
    "print(\"Donated Toys\")\n",
    "print(donated_toys)"
   ]
  },
  {
   "cell_type": "code",
   "execution_count": 83,
   "metadata": {},
   "outputs": [
    {
     "name": "stdout",
     "output_type": "stream",
     "text": [
      "You earned 30.0 dollars for donating Oversized toys!\n",
      "You earned 2.0 dollars for donating Puzzle or board games!\n",
      "You earned 3.0 dollars for donating Large books!\n",
      "You earned 1.5 dollars for donating Small books!\n",
      "You earned 2.0 dollars for donating Big toys!\n",
      "You earned 2.5 dollars for donating Little toys!\n",
      "You earned 4.0 dollars for donating Small bins!\n",
      "You earned 9.0 dollars for donating Big bins!\n",
      "You earned 1.5 dollars for donating Hot Wheels cars!\n",
      "\n",
      "\n",
      "==================================================\n",
      "                    GRAND TOTAL\n",
      "\n",
      "                      $55.5\n",
      "==================================================\n"
     ]
    }
   ],
   "source": [
    "# Eventually, this will show how much money was earned\n",
    "total = 0\n",
    "\n",
    "\n",
    "for toy, num in donated_toys.items():\n",
    "    # Make sure num is actually a number.  Give back 0 if it isn't.\n",
    "    try:\n",
    "        validated = int(num)\n",
    "    except ValueError:\n",
    "        validated = 0\n",
    "\n",
    "    # Make sure toy is actually in our price dictionary\n",
    "    if toy in prices:\n",
    "        # I need you to get the price for each toy\n",
    "        price = prices[toy]  # YOUR CODE HERE\n",
    "        earned = round(validated * float(price), 2)\n",
    "        \n",
    "        # Print out a statement that shows how much money was earned\n",
    "        # BONUS: Also show what type of toy on the same line\n",
    "        \n",
    "        if earned > 0:\n",
    "            print(f'You earned {earned} dollars for donating {toy}s!')\n",
    "        \n",
    "        # This will add the amount earned to the total\n",
    "        total += earned\n",
    "        \n",
    "print()\n",
    "print()\n",
    "print(50*'=')\n",
    "print(20*' ' + 'GRAND TOTAL')\n",
    "print()\n",
    "#print(total)\n",
    "print(22*' ' + '$' + str(total)) ## This one looks way better, though\n",
    "print(50*'=')"
   ]
  },
  {
   "cell_type": "markdown",
   "metadata": {},
   "source": [
    "## Pay Day!\n",
    "\n",
    "Now that we know how much money is owed, let's figure out what bills and coins we need!"
   ]
  },
  {
   "cell_type": "code",
   "execution_count": 84,
   "metadata": {},
   "outputs": [
    {
     "name": "stdout",
     "output_type": "stream",
     "text": [
      "Payout:\n",
      "--------------------------------------------------\n",
      "5 tens: $50.00\n",
      "1 fives: $5.00\n",
      "2 quarters: $0.50\n"
     ]
    }
   ],
   "source": [
    "total_cents = total * 100\n",
    "\n",
    "print('Payout:')\n",
    "print(50*'-')\n",
    "for cur_type, cur_amt in currency.items():\n",
    "    num_needed = 0 \n",
    "    while total_cents >= cur_amt:\n",
    "        num_needed += 1\n",
    "        total_cents -= cur_amt\n",
    "    if num_needed > 0:\n",
    "        buffer = 15 - len(f'{num_needed} {cur_type}s:')\n",
    "        print(f'{num_needed} {cur_type}s:' + buffer*' ' +  f'${(cur_amt * num_needed)/100:.2f}')"
   ]
  },
  {
   "cell_type": "code",
   "execution_count": null,
   "metadata": {},
   "outputs": [],
   "source": []
  }
 ],
 "metadata": {
  "kernelspec": {
   "display_name": "Python 3",
   "language": "python",
   "name": "python3"
  },
  "language_info": {
   "codemirror_mode": {
    "name": "ipython",
    "version": 3
   },
   "file_extension": ".py",
   "mimetype": "text/x-python",
   "name": "python",
   "nbconvert_exporter": "python",
   "pygments_lexer": "ipython3",
   "version": "3.8.1"
  }
 },
 "nbformat": 4,
 "nbformat_minor": 4
}
